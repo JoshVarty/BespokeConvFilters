{
 "cells": [
  {
   "cell_type": "markdown",
   "metadata": {},
   "source": [
    "# Gabor Filters"
   ]
  },
  {
   "cell_type": "markdown",
   "metadata": {},
   "source": [
    "Now that we've played around a bit with what the neural network thinks are good filters for ResNet50, can our own biological neural network come up with a set of 64 **better** filters? Probably not!"
   ]
  },
  {
   "cell_type": "markdown",
   "metadata": {},
   "source": [
    "Gabor filters are linear filters used for edge detection and texture analysis. We're hoping that we can manually create some filters and use them as the first layer of our neural network."
   ]
  },
  {
   "cell_type": "markdown",
   "metadata": {},
   "source": [
    "## Creating a Gabor Filter"
   ]
  },
  {
   "cell_type": "markdown",
   "metadata": {},
   "source": [
    "A gabor filter can be created via this function: ![](https://i.imgur.com/3u8H6VF.png)"
   ]
  },
  {
   "cell_type": "markdown",
   "metadata": {},
   "source": [
    "Here is what they tell me these letters mean:\n",
    " - **x** The width of the desired filter\n",
    " - **y** The height of the desired filter\n",
    " - **σ** The standard deviation of the Gaussian function. Increasing it causes more lines in the filter.\n",
    " - **Θ** The filter orientation/rotation\n",
    " - **λ** The wavelength of the sinusoidal factor\n",
    " - **γ** The spatial aspect factor (???)\n",
    " - **ψ** The phase offset\n",
    " \n",
    " \n"
   ]
  },
  {
   "cell_type": "markdown",
   "metadata": {},
   "source": [
    "I'm following [this paper]() which used these settings for those letters:\n",
    "\n",
    "![image.png](https://i.imgur.com/qUeWLUG.png)\n",
    "\n",
    "They created `5x5` filters, so we'll do the same to sanity check that we're not messing everything up."
   ]
  },
  {
   "cell_type": "code",
   "execution_count": 9,
   "metadata": {},
   "outputs": [],
   "source": [
    "import cv2\n",
    "import numpy as np\n",
    "import matplotlib.pyplot as plt"
   ]
  },
  {
   "cell_type": "code",
   "execution_count": 10,
   "metadata": {},
   "outputs": [
    {
     "data": {
      "text/plain": [
       "<matplotlib.image.AxesImage at 0x7fdad1eca210>"
      ]
     },
     "execution_count": 10,
     "metadata": {},
     "output_type": "execute_result"
    },
    {
     "data": {
      "image/png": "[encoded data removed]",
      "text/plain": [
       "<Figure size 432x288 with 1 Axes>"
      ]
     },
     "metadata": {
      "needs_background": "light"
     },
     "output_type": "display_data"
    }
   ],
   "source": [
    "ksize = (7, 7)\n",
    "sigma = 3\n",
    "theta = 1 * np.pi / 4\n",
    "lambd = 8 * np.pi / 4\n",
    "gamma = 0.5\n",
    "phi = 0\n",
    "\n",
    "result = cv2.getGaborKernel(ksize, sigma, theta, lambd, gamma, psi=0,  ktype=cv2.CV_32F)\n",
    "plt.imshow(result)"
   ]
  },
  {
   "cell_type": "markdown",
   "metadata": {},
   "source": [
    "## Creating a filter bank"
   ]
  },
  {
   "cell_type": "markdown",
   "metadata": {},
   "source": [
    "We have to create 64 kernels. My plan is to have:\n",
    " - 16 Black and White kernels\n",
    " - 16 Red and Green kernels\n",
    " - 16 Red and Blue kernels\n",
    " - 16 Green and Blue Kernels\n",
    "\n",
    "For a set of 16 kernels we will have:\n",
    " - 8 light to dark\n",
    " - 8 dark to light\n",
    " \n",
    "For a set of 8 kernels we will have:\n"
   ]
  },
  {
   "cell_type": "code",
   "execution_count": 11,
   "metadata": {},
   "outputs": [],
   "source": [
    "def generate_filter_bank():\n",
    "    \"\"\" \n",
    "    Generates 16 Gabor filters by varying theta (rotation) and lambda (wavelength)\n",
    "    \"\"\"\n",
    "\n",
    "    ksize = (7, 7)\n",
    "    sigma = 3\n",
    "    gamma = 0.75\n",
    "    phi = 0\n",
    "    \n",
    "    lambd_1 = 1 * np.pi / 4\n",
    "    lambd_2 = 4 * np.pi / 4\n",
    "    \n",
    "    theta_1 = 1 * np.pi / 4\n",
    "    theta_2 = 2 * np.pi / 4\n",
    "    theta_3 = 3 * np.pi / 4\n",
    "    theta_4 = 4 * np.pi / 4\n",
    "    \n",
    "    thetas = [theta_1, theta_2, theta_3, theta_4]\n",
    "    lambds = [lambd_1, lambd_2]\n",
    "    \n",
    "    filters = []\n",
    "    \n",
    "    for theta in thetas:\n",
    "        for lambd in lambds:\n",
    "            filter = cv2.getGaborKernel(ksize, sigma, theta, lambd, gamma, psi=0,  ktype=cv2.CV_32F)\n",
    "            filters.append(filter)\n",
    "            \n",
    "    filters = np.array(filters)\n",
    "    # Add inverted filters\n",
    "    inverted_filters = filters[:] * -1\n",
    "    return np.concatenate((filters, inverted_filters))\n",
    "        "
   ]
  },
  {
   "cell_type": "code",
   "execution_count": 12,
   "metadata": {},
   "outputs": [],
   "source": [
    "filters = generate_filter_bank()"
   ]
  },
  {
   "cell_type": "code",
   "execution_count": 13,
   "metadata": {},
   "outputs": [
    {
     "data": {
      "image/png": "[encoded data removed]",
      "text/plain": [
       "<Figure size 432x288 with 1 Axes>"
      ]
     },
     "metadata": {
      "needs_background": "light"
     },
     "output_type": "display_data"
    },
    {
     "data": {
      "image/png": "[encoded data removed]",
      "text/plain": [
       "<Figure size 432x288 with 1 Axes>"
      ]
     },
     "metadata": {
      "needs_background": "light"
     },
     "output_type": "display_data"
    },
    {
     "data": {
      "image/png": "[encoded data removed]",
      "text/plain": [
       "<Figure size 432x288 with 1 Axes>"
      ]
     },
     "metadata": {
      "needs_background": "light"
     },
     "output_type": "display_data"
    },
    {
     "data": {
      "image/png": "[encoded data removed]",
      "text/plain": [
       "<Figure size 432x288 with 1 Axes>"
      ]
     },
     "metadata": {
      "needs_background": "light"
     },
     "output_type": "display_data"
    }
   ],
   "source": [
    "# sample filters\n",
    "plt.imshow(filters[0])\n",
    "plt.show()\n",
    "plt.imshow(filters[2])\n",
    "plt.show()\n",
    "plt.imshow(filters[8])\n",
    "plt.show()\n",
    "plt.imshow(filters[10])\n",
    "plt.show()"
   ]
  },
  {
   "cell_type": "code",
   "execution_count": 14,
   "metadata": {},
   "outputs": [],
   "source": [
    "import torch"
   ]
  },
  {
   "cell_type": "code",
   "execution_count": 34,
   "metadata": {},
   "outputs": [],
   "source": [
    "weights = torch.zeros((64,3,7,7))"
   ]
  },
  {
   "cell_type": "code",
   "execution_count": 35,
   "metadata": {},
   "outputs": [],
   "source": [
    "#filters = np.expand_dims(filters, -1)"
   ]
  },
  {
   "cell_type": "code",
   "execution_count": 41,
   "metadata": {},
   "outputs": [],
   "source": [
    "# Set black and white gabor filters\n",
    "device = device = torch.device('cuda' if torch.cuda.is_available() else 'cpu')\n",
    "\n",
    "weights[:16,0,:,:] = torch.from_numpy(filters)\n",
    "weights[:16,1,:,:] = torch.from_numpy(filters)\n",
    "weights[:16,2,:,:] = torch.from_numpy(filters)\n",
    "\n",
    "# Set red and green gabor filters\n",
    "weights[16:32,0,:,:] = torch.from_numpy(filters)\n",
    "weights[16:32,1,:,:] = torch.from_numpy(filters)\n",
    "\n",
    "# Set red and blue gabor filters\n",
    "weights[32:48,0,:,:] = torch.from_numpy(filters)\n",
    "weights[32:48,2,:,:] = torch.from_numpy(filters)\n",
    "\n",
    "# Set green and blue gabor filters\n",
    "weights[48:,1,:,:] = torch.from_numpy(filters)\n",
    "weights[48:,2,:,:] = torch.from_numpy(filters)\n",
    "\n",
    "weights = weights.to(device)"
   ]
  },
  {
   "cell_type": "markdown",
   "metadata": {},
   "source": [
    "## Compare Against Random Weights"
   ]
  },
  {
   "cell_type": "markdown",
   "metadata": {},
   "source": [
    "So have we actually made anything useful? Let's compare a random network to one with our filters."
   ]
  },
  {
   "cell_type": "code",
   "execution_count": 1,
   "metadata": {},
   "outputs": [],
   "source": [
    "from fastai.vision import *"
   ]
  },
  {
   "cell_type": "code",
   "execution_count": 4,
   "metadata": {},
   "outputs": [],
   "source": [
    "path = untar_data(URLs.CIFAR)"
   ]
  },
  {
   "cell_type": "code",
   "execution_count": 5,
   "metadata": {},
   "outputs": [],
   "source": [
    "def trainLearner():\n",
    "    data = ImageDataBunch.from_folder(path, valid='test', bs=128)\n",
    "    learner = cnn_learner(data, models.resnet50, metrics=accuracy, pretrained=False)\n",
    "    learner.unfreeze() # train whole network\n",
    "    learner.fit_one_cycle(10, max_lr=1e-2)\n",
    "    acc = learner.recorder.metrics[-1]\n",
    "    return acc"
   ]
  },
  {
   "cell_type": "code",
   "execution_count": 6,
   "metadata": {},
   "outputs": [
    {
     "data": {
      "text/html": [
       "<table border=\"1\" class=\"dataframe\">\n",
       "  <thead>\n",
       "    <tr style=\"text-align: left;\">\n",
       "      <th>epoch</th>\n",
       "      <th>train_loss</th>\n",
       "      <th>valid_loss</th>\n",
       "      <th>accuracy</th>\n",
       "      <th>time</th>\n",
       "    </tr>\n",
       "  </thead>\n",
       "  <tbody>\n",
       "    <tr>\n",
       "      <td>0</td>\n",
       "      <td>1.848920</td>\n",
       "      <td>1.994516</td>\n",
       "      <td>0.382300</td>\n",
       "      <td>00:21</td>\n",
       "    </tr>\n",
       "    <tr>\n",
       "      <td>1</td>\n",
       "      <td>2.121100</td>\n",
       "      <td>2.509887</td>\n",
       "      <td>0.184500</td>\n",
       "      <td>00:20</td>\n",
       "    </tr>\n",
       "    <tr>\n",
       "      <td>2</td>\n",
       "      <td>2.016731</td>\n",
       "      <td>2.442988</td>\n",
       "      <td>0.308400</td>\n",
       "      <td>00:21</td>\n",
       "    </tr>\n",
       "    <tr>\n",
       "      <td>3</td>\n",
       "      <td>1.720806</td>\n",
       "      <td>1.709474</td>\n",
       "      <td>0.416000</td>\n",
       "      <td>00:21</td>\n",
       "    </tr>\n",
       "    <tr>\n",
       "      <td>4</td>\n",
       "      <td>1.406722</td>\n",
       "      <td>2.932277</td>\n",
       "      <td>0.314700</td>\n",
       "      <td>00:21</td>\n",
       "    </tr>\n",
       "    <tr>\n",
       "      <td>5</td>\n",
       "      <td>1.180207</td>\n",
       "      <td>5.989246</td>\n",
       "      <td>0.566800</td>\n",
       "      <td>00:22</td>\n",
       "    </tr>\n",
       "    <tr>\n",
       "      <td>6</td>\n",
       "      <td>0.998968</td>\n",
       "      <td>1.053909</td>\n",
       "      <td>0.640000</td>\n",
       "      <td>00:22</td>\n",
       "    </tr>\n",
       "    <tr>\n",
       "      <td>7</td>\n",
       "      <td>0.830501</td>\n",
       "      <td>18.856705</td>\n",
       "      <td>0.685400</td>\n",
       "      <td>00:22</td>\n",
       "    </tr>\n",
       "    <tr>\n",
       "      <td>8</td>\n",
       "      <td>0.677314</td>\n",
       "      <td>3.812740</td>\n",
       "      <td>0.710700</td>\n",
       "      <td>00:22</td>\n",
       "    </tr>\n",
       "    <tr>\n",
       "      <td>9</td>\n",
       "      <td>0.586527</td>\n",
       "      <td>4.809606</td>\n",
       "      <td>0.714300</td>\n",
       "      <td>00:22</td>\n",
       "    </tr>\n",
       "  </tbody>\n",
       "</table>"
      ],
      "text/plain": [
       "<IPython.core.display.HTML object>"
      ]
     },
     "metadata": {},
     "output_type": "display_data"
    },
    {
     "data": {
      "text/html": [
       "<table border=\"1\" class=\"dataframe\">\n",
       "  <thead>\n",
       "    <tr style=\"text-align: left;\">\n",
       "      <th>epoch</th>\n",
       "      <th>train_loss</th>\n",
       "      <th>valid_loss</th>\n",
       "      <th>accuracy</th>\n",
       "      <th>time</th>\n",
       "    </tr>\n",
       "  </thead>\n",
       "  <tbody>\n",
       "    <tr>\n",
       "      <td>0</td>\n",
       "      <td>1.827144</td>\n",
       "      <td>1.759791</td>\n",
       "      <td>0.372500</td>\n",
       "      <td>00:22</td>\n",
       "    </tr>\n",
       "    <tr>\n",
       "      <td>1</td>\n",
       "      <td>1.932910</td>\n",
       "      <td>4.332092</td>\n",
       "      <td>0.355200</td>\n",
       "      <td>00:22</td>\n",
       "    </tr>\n",
       "    <tr>\n",
       "      <td>2</td>\n",
       "      <td>1.862046</td>\n",
       "      <td>1.870286</td>\n",
       "      <td>0.367100</td>\n",
       "      <td>00:23</td>\n",
       "    </tr>\n",
       "    <tr>\n",
       "      <td>3</td>\n",
       "      <td>1.880274</td>\n",
       "      <td>2.735202</td>\n",
       "      <td>0.342800</td>\n",
       "      <td>00:22</td>\n",
       "    </tr>\n",
       "    <tr>\n",
       "      <td>4</td>\n",
       "      <td>1.447865</td>\n",
       "      <td>1.837602</td>\n",
       "      <td>0.492400</td>\n",
       "      <td>00:22</td>\n",
       "    </tr>\n",
       "    <tr>\n",
       "      <td>5</td>\n",
       "      <td>1.291582</td>\n",
       "      <td>2.537445</td>\n",
       "      <td>0.542400</td>\n",
       "      <td>00:22</td>\n",
       "    </tr>\n",
       "    <tr>\n",
       "      <td>6</td>\n",
       "      <td>1.127729</td>\n",
       "      <td>1.118069</td>\n",
       "      <td>0.601900</td>\n",
       "      <td>00:22</td>\n",
       "    </tr>\n",
       "    <tr>\n",
       "      <td>7</td>\n",
       "      <td>0.954893</td>\n",
       "      <td>3.830166</td>\n",
       "      <td>0.658200</td>\n",
       "      <td>00:22</td>\n",
       "    </tr>\n",
       "    <tr>\n",
       "      <td>8</td>\n",
       "      <td>0.806522</td>\n",
       "      <td>0.945411</td>\n",
       "      <td>0.683000</td>\n",
       "      <td>00:21</td>\n",
       "    </tr>\n",
       "    <tr>\n",
       "      <td>9</td>\n",
       "      <td>0.715081</td>\n",
       "      <td>1.141922</td>\n",
       "      <td>0.695900</td>\n",
       "      <td>00:22</td>\n",
       "    </tr>\n",
       "  </tbody>\n",
       "</table>"
      ],
      "text/plain": [
       "<IPython.core.display.HTML object>"
      ]
     },
     "metadata": {},
     "output_type": "display_data"
    },
    {
     "data": {
      "text/html": [
       "<table border=\"1\" class=\"dataframe\">\n",
       "  <thead>\n",
       "    <tr style=\"text-align: left;\">\n",
       "      <th>epoch</th>\n",
       "      <th>train_loss</th>\n",
       "      <th>valid_loss</th>\n",
       "      <th>accuracy</th>\n",
       "      <th>time</th>\n",
       "    </tr>\n",
       "  </thead>\n",
       "  <tbody>\n",
       "    <tr>\n",
       "      <td>0</td>\n",
       "      <td>1.843423</td>\n",
       "      <td>2.088539</td>\n",
       "      <td>0.346100</td>\n",
       "      <td>00:23</td>\n",
       "    </tr>\n",
       "    <tr>\n",
       "      <td>1</td>\n",
       "      <td>2.155705</td>\n",
       "      <td>3.405488</td>\n",
       "      <td>0.165900</td>\n",
       "      <td>00:22</td>\n",
       "    </tr>\n",
       "    <tr>\n",
       "      <td>2</td>\n",
       "      <td>2.325151</td>\n",
       "      <td>11.469940</td>\n",
       "      <td>0.201000</td>\n",
       "      <td>00:22</td>\n",
       "    </tr>\n",
       "    <tr>\n",
       "      <td>3</td>\n",
       "      <td>1.943591</td>\n",
       "      <td>1.907026</td>\n",
       "      <td>0.260500</td>\n",
       "      <td>00:23</td>\n",
       "    </tr>\n",
       "    <tr>\n",
       "      <td>4</td>\n",
       "      <td>1.622769</td>\n",
       "      <td>1.539947</td>\n",
       "      <td>0.426200</td>\n",
       "      <td>00:22</td>\n",
       "    </tr>\n",
       "    <tr>\n",
       "      <td>5</td>\n",
       "      <td>1.363247</td>\n",
       "      <td>2.263697</td>\n",
       "      <td>0.527100</td>\n",
       "      <td>00:21</td>\n",
       "    </tr>\n",
       "    <tr>\n",
       "      <td>6</td>\n",
       "      <td>1.192837</td>\n",
       "      <td>43.337162</td>\n",
       "      <td>0.535200</td>\n",
       "      <td>00:22</td>\n",
       "    </tr>\n",
       "    <tr>\n",
       "      <td>7</td>\n",
       "      <td>1.042123</td>\n",
       "      <td>12.897882</td>\n",
       "      <td>0.589400</td>\n",
       "      <td>00:22</td>\n",
       "    </tr>\n",
       "    <tr>\n",
       "      <td>8</td>\n",
       "      <td>0.896126</td>\n",
       "      <td>35.271912</td>\n",
       "      <td>0.660400</td>\n",
       "      <td>00:22</td>\n",
       "    </tr>\n",
       "    <tr>\n",
       "      <td>9</td>\n",
       "      <td>0.832859</td>\n",
       "      <td>24.970451</td>\n",
       "      <td>0.665400</td>\n",
       "      <td>00:21</td>\n",
       "    </tr>\n",
       "  </tbody>\n",
       "</table>"
      ],
      "text/plain": [
       "<IPython.core.display.HTML object>"
      ]
     },
     "metadata": {},
     "output_type": "display_data"
    },
    {
     "name": "stdout",
     "output_type": "stream",
     "text": [
      "Avg accuracy: 0.6918667\n"
     ]
    }
   ],
   "source": [
    "acc1 = trainLearner()\n",
    "acc2 = trainLearner()\n",
    "acc3 = trainLearner()\n",
    "\n",
    "print(\"Avg accuracy:\", np.mean((acc1, acc2, acc3)))"
   ]
  },
  {
   "cell_type": "code",
   "execution_count": 42,
   "metadata": {},
   "outputs": [],
   "source": [
    "def trainLearnerWithFilters():\n",
    "    data = ImageDataBunch.from_folder(path, valid='test', bs=128)\n",
    "    learner = cnn_learner(data, models.resnet50, metrics=accuracy, pretrained=False)\n",
    "    \n",
    "    learner.model[0][0].weight.data = weights\n",
    "    \n",
    "    learner.unfreeze() # train whole network\n",
    "    learner.fit_one_cycle(10, max_lr=1e-2)\n",
    "    acc = learner.recorder.metrics[-1]\n",
    "    return acc"
   ]
  },
  {
   "cell_type": "code",
   "execution_count": 43,
   "metadata": {},
   "outputs": [
    {
     "data": {
      "text/html": [
       "<table border=\"1\" class=\"dataframe\">\n",
       "  <thead>\n",
       "    <tr style=\"text-align: left;\">\n",
       "      <th>epoch</th>\n",
       "      <th>train_loss</th>\n",
       "      <th>valid_loss</th>\n",
       "      <th>accuracy</th>\n",
       "      <th>time</th>\n",
       "    </tr>\n",
       "  </thead>\n",
       "  <tbody>\n",
       "    <tr>\n",
       "      <td>0</td>\n",
       "      <td>1.787995</td>\n",
       "      <td>1.729151</td>\n",
       "      <td>0.415800</td>\n",
       "      <td>00:20</td>\n",
       "    </tr>\n",
       "    <tr>\n",
       "      <td>1</td>\n",
       "      <td>1.651469</td>\n",
       "      <td>1.626416</td>\n",
       "      <td>0.446400</td>\n",
       "      <td>00:21</td>\n",
       "    </tr>\n",
       "    <tr>\n",
       "      <td>2</td>\n",
       "      <td>1.753577</td>\n",
       "      <td>2.210950</td>\n",
       "      <td>0.423500</td>\n",
       "      <td>00:23</td>\n",
       "    </tr>\n",
       "    <tr>\n",
       "      <td>3</td>\n",
       "      <td>1.371171</td>\n",
       "      <td>371.908112</td>\n",
       "      <td>0.210800</td>\n",
       "      <td>00:24</td>\n",
       "    </tr>\n",
       "    <tr>\n",
       "      <td>4</td>\n",
       "      <td>1.126446</td>\n",
       "      <td>1.173526</td>\n",
       "      <td>0.591800</td>\n",
       "      <td>00:22</td>\n",
       "    </tr>\n",
       "    <tr>\n",
       "      <td>5</td>\n",
       "      <td>0.973133</td>\n",
       "      <td>11.565470</td>\n",
       "      <td>0.604200</td>\n",
       "      <td>00:22</td>\n",
       "    </tr>\n",
       "    <tr>\n",
       "      <td>6</td>\n",
       "      <td>0.804810</td>\n",
       "      <td>17.518581</td>\n",
       "      <td>0.685000</td>\n",
       "      <td>00:22</td>\n",
       "    </tr>\n",
       "    <tr>\n",
       "      <td>7</td>\n",
       "      <td>0.666872</td>\n",
       "      <td>5.192451</td>\n",
       "      <td>0.732100</td>\n",
       "      <td>00:23</td>\n",
       "    </tr>\n",
       "    <tr>\n",
       "      <td>8</td>\n",
       "      <td>0.509420</td>\n",
       "      <td>1.224431</td>\n",
       "      <td>0.749900</td>\n",
       "      <td>00:22</td>\n",
       "    </tr>\n",
       "    <tr>\n",
       "      <td>9</td>\n",
       "      <td>0.423351</td>\n",
       "      <td>1.613644</td>\n",
       "      <td>0.752100</td>\n",
       "      <td>00:22</td>\n",
       "    </tr>\n",
       "  </tbody>\n",
       "</table>"
      ],
      "text/plain": [
       "<IPython.core.display.HTML object>"
      ]
     },
     "metadata": {},
     "output_type": "display_data"
    },
    {
     "data": {
      "text/html": [
       "<table border=\"1\" class=\"dataframe\">\n",
       "  <thead>\n",
       "    <tr style=\"text-align: left;\">\n",
       "      <th>epoch</th>\n",
       "      <th>train_loss</th>\n",
       "      <th>valid_loss</th>\n",
       "      <th>accuracy</th>\n",
       "      <th>time</th>\n",
       "    </tr>\n",
       "  </thead>\n",
       "  <tbody>\n",
       "    <tr>\n",
       "      <td>0</td>\n",
       "      <td>1.650917</td>\n",
       "      <td>1.573119</td>\n",
       "      <td>0.472700</td>\n",
       "      <td>00:22</td>\n",
       "    </tr>\n",
       "    <tr>\n",
       "      <td>1</td>\n",
       "      <td>1.671772</td>\n",
       "      <td>2.002503</td>\n",
       "      <td>0.415000</td>\n",
       "      <td>00:21</td>\n",
       "    </tr>\n",
       "    <tr>\n",
       "      <td>2</td>\n",
       "      <td>1.772808</td>\n",
       "      <td>1.572370</td>\n",
       "      <td>0.427000</td>\n",
       "      <td>00:23</td>\n",
       "    </tr>\n",
       "    <tr>\n",
       "      <td>3</td>\n",
       "      <td>1.185721</td>\n",
       "      <td>1.313986</td>\n",
       "      <td>0.615700</td>\n",
       "      <td>00:23</td>\n",
       "    </tr>\n",
       "    <tr>\n",
       "      <td>4</td>\n",
       "      <td>0.989425</td>\n",
       "      <td>1.280266</td>\n",
       "      <td>0.590600</td>\n",
       "      <td>00:23</td>\n",
       "    </tr>\n",
       "    <tr>\n",
       "      <td>5</td>\n",
       "      <td>0.833081</td>\n",
       "      <td>1.069583</td>\n",
       "      <td>0.646800</td>\n",
       "      <td>00:23</td>\n",
       "    </tr>\n",
       "    <tr>\n",
       "      <td>6</td>\n",
       "      <td>0.661754</td>\n",
       "      <td>3.456589</td>\n",
       "      <td>0.753900</td>\n",
       "      <td>00:22</td>\n",
       "    </tr>\n",
       "    <tr>\n",
       "      <td>7</td>\n",
       "      <td>0.494939</td>\n",
       "      <td>11.677612</td>\n",
       "      <td>0.760500</td>\n",
       "      <td>00:23</td>\n",
       "    </tr>\n",
       "    <tr>\n",
       "      <td>8</td>\n",
       "      <td>0.346352</td>\n",
       "      <td>1.289413</td>\n",
       "      <td>0.783500</td>\n",
       "      <td>00:23</td>\n",
       "    </tr>\n",
       "    <tr>\n",
       "      <td>9</td>\n",
       "      <td>0.261362</td>\n",
       "      <td>3.361222</td>\n",
       "      <td>0.786400</td>\n",
       "      <td>00:23</td>\n",
       "    </tr>\n",
       "  </tbody>\n",
       "</table>"
      ],
      "text/plain": [
       "<IPython.core.display.HTML object>"
      ]
     },
     "metadata": {},
     "output_type": "display_data"
    },
    {
     "data": {
      "text/html": [
       "<table border=\"1\" class=\"dataframe\">\n",
       "  <thead>\n",
       "    <tr style=\"text-align: left;\">\n",
       "      <th>epoch</th>\n",
       "      <th>train_loss</th>\n",
       "      <th>valid_loss</th>\n",
       "      <th>accuracy</th>\n",
       "      <th>time</th>\n",
       "    </tr>\n",
       "  </thead>\n",
       "  <tbody>\n",
       "    <tr>\n",
       "      <td>0</td>\n",
       "      <td>1.510552</td>\n",
       "      <td>1.422872</td>\n",
       "      <td>0.493600</td>\n",
       "      <td>00:23</td>\n",
       "    </tr>\n",
       "    <tr>\n",
       "      <td>1</td>\n",
       "      <td>1.734703</td>\n",
       "      <td>127.264626</td>\n",
       "      <td>0.119700</td>\n",
       "      <td>00:22</td>\n",
       "    </tr>\n",
       "    <tr>\n",
       "      <td>2</td>\n",
       "      <td>1.400461</td>\n",
       "      <td>2.145432</td>\n",
       "      <td>0.344500</td>\n",
       "      <td>00:23</td>\n",
       "    </tr>\n",
       "    <tr>\n",
       "      <td>3</td>\n",
       "      <td>1.081707</td>\n",
       "      <td>1.784705</td>\n",
       "      <td>0.519800</td>\n",
       "      <td>00:23</td>\n",
       "    </tr>\n",
       "    <tr>\n",
       "      <td>4</td>\n",
       "      <td>0.922590</td>\n",
       "      <td>31.087309</td>\n",
       "      <td>0.670700</td>\n",
       "      <td>00:22</td>\n",
       "    </tr>\n",
       "    <tr>\n",
       "      <td>5</td>\n",
       "      <td>0.771420</td>\n",
       "      <td>0.922434</td>\n",
       "      <td>0.715800</td>\n",
       "      <td>00:22</td>\n",
       "    </tr>\n",
       "    <tr>\n",
       "      <td>6</td>\n",
       "      <td>0.622976</td>\n",
       "      <td>0.876273</td>\n",
       "      <td>0.735900</td>\n",
       "      <td>00:22</td>\n",
       "    </tr>\n",
       "    <tr>\n",
       "      <td>7</td>\n",
       "      <td>0.449869</td>\n",
       "      <td>0.907081</td>\n",
       "      <td>0.765700</td>\n",
       "      <td>00:23</td>\n",
       "    </tr>\n",
       "    <tr>\n",
       "      <td>8</td>\n",
       "      <td>0.315553</td>\n",
       "      <td>1.768057</td>\n",
       "      <td>0.784300</td>\n",
       "      <td>00:23</td>\n",
       "    </tr>\n",
       "    <tr>\n",
       "      <td>9</td>\n",
       "      <td>0.233275</td>\n",
       "      <td>19.451540</td>\n",
       "      <td>0.783200</td>\n",
       "      <td>00:23</td>\n",
       "    </tr>\n",
       "  </tbody>\n",
       "</table>"
      ],
      "text/plain": [
       "<IPython.core.display.HTML object>"
      ]
     },
     "metadata": {},
     "output_type": "display_data"
    },
    {
     "name": "stdout",
     "output_type": "stream",
     "text": [
      "Avg accuracy: 0.77390003\n"
     ]
    }
   ],
   "source": [
    "acc1 = trainLearnerWithFilters()\n",
    "acc2 = trainLearnerWithFilters()\n",
    "acc3 = trainLearnerWithFilters()\n",
    "\n",
    "print(\"Avg accuracy:\", np.mean((acc1, acc2, acc3)))"
   ]
  },
  {
   "cell_type": "markdown",
   "metadata": {},
   "source": [
    "So that's kind of cool: We can get much better results (for 10 epochs at least) if we start training with our custom weights. There are probably things we could improve with our weights so this is encouraging."
   ]
  },
  {
   "cell_type": "code",
   "execution_count": null,
   "metadata": {},
   "outputs": [],
   "source": []
  }
 ],
 "metadata": {
  "kernelspec": {
   "display_name": "Python (dl)",
   "language": "python",
   "name": "dl"
  },
  "language_info": {
   "codemirror_mode": {
    "name": "ipython",
    "version": 3
   },
   "file_extension": ".py",
   "mimetype": "text/x-python",
   "name": "python",
   "nbconvert_exporter": "python",
   "pygments_lexer": "ipython3",
   "version": "3.7.6"
  }
 },
 "nbformat": 4,
 "nbformat_minor": 4
}
